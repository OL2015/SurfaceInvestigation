{
 "cells": [
  {
   "cell_type": "markdown",
   "metadata": {},
   "source": [
    "# SMM Raw surface simulator"
   ]
  },
  {
   "cell_type": "code",
   "execution_count": 1,
   "metadata": {
    "collapsed": false
   },
   "outputs": [
    {
     "name": "stdout",
     "output_type": "stream",
     "text": [
      "Populating the interactive namespace from numpy and matplotlib\n"
     ]
    },
    {
     "data": {
      "text/plain": [
       "<module 'DeviceSimulator.RawDataBuilder' from 'DeviceSimulator\\RawDataBuilder.pyc'>"
      ]
     },
     "execution_count": 1,
     "metadata": {},
     "output_type": "execute_result"
    }
   ],
   "source": [
    "%pylab inline  \n",
    "import numpy as np  \n",
    "import matplotlib.pyplot as pl \n",
    "from PIL import Image \n",
    "import os   \n",
    " \n",
    "from  DeviceSimulator import RawDataBuilder\n",
    "reload(RawDataBuilder)"
   ]
  },
  {
   "cell_type": "code",
   "execution_count": 2,
   "metadata": {
    "collapsed": true
   },
   "outputs": [],
   "source": [
    "outputPath =\"C:\\\\_Projects\\\\python\\\\SurfaceInvestigation\\\\SimulatedSurface50026\\\\ScanRawData.dat\"\n",
    "\n",
    "def showImages(rawFrame, z):\n",
    "#         rawFrameT = np.transpose(rawFrame)\n",
    "        rawFrameT =  rawFrame \n",
    "        ImgI = Image.fromarray(rawFrameT)\n",
    "\n",
    "#         import pylab as pl\n",
    "        from IPython import display \n",
    "        extra = Rectangle((0, 0), 1, 1, fc=\"w\", fill=False, edgecolor='none', linewidth=0)\n",
    "        s = 'z={}'.format(z)\n",
    "        pl.legend([extra ], [s])\n",
    "        pl.imshow(ImgI, cmap=plt.get_cmap('gray'), vmin=0, vmax=255)\n",
    "        display.clear_output(wait=True)\n",
    "        display.display(pl.gcf())\n",
    "        pass \n",
    "def showAndSaveImages(rawFrame, z):   \n",
    "        f = open(outputPath, 'ab') \n",
    "#         rawFrameT = np.transpose(rawFrame) \n",
    "        buf = np.getbuffer(rawFrame.flatten().tobytes())\n",
    "        f.write(buf) \n",
    "        f.close()\n",
    "        showImages(rawFrame, z)"
   ]
  },
  {
   "cell_type": "code",
   "execution_count": 3,
   "metadata": {
    "collapsed": false
   },
   "outputs": [],
   "source": [
    "c = 299792458.0 * 10**9  # micron/s (* 10^12 for nanometers) - light speed\n",
    "\n",
    "# Device Parameters (7-QS) - to be moved to  \n",
    "SerialNumber=50026\n",
    "#pixel size  \n",
    "Micron_Per_Pixel=0.447000  \n",
    "# # max brightness and background(gray values)\n",
    "# I0 = 100\n",
    "# Ibkg = 40\n",
    "\n",
    "# light source\n",
    "fi0 = 0.0\n",
    "WaveLength=0.535000 \n",
    "bw = 0.0125 # bandwidth, microns\n"
   ]
  },
  {
   "cell_type": "code",
   "execution_count": 7,
   "metadata": {
    "collapsed": false
   },
   "outputs": [
    {
     "data": {
      "image/png": "[encoded data removed]",
      "text/plain": [
       "<matplotlib.figure.Figure at 0x6b1c310>"
      ]
     },
     "metadata": {},
     "output_type": "display_data"
    },
    {
     "data": {
      "image/png": "[encoded data removed]",
      "text/plain": [
       "<matplotlib.figure.Figure at 0x6b1c310>"
      ]
     },
     "metadata": {},
     "output_type": "display_data"
    }
   ],
   "source": [
    "#Flat fiber simulation\n",
    "\n",
    "#clear source \n",
    "if os.path.exists(outputPath) and os.path.isfile(outputPath):\n",
    "    os.remove(outputPath)\n",
    "#Scan parameters \n",
    "# screen size in pixels:\n",
    "W=800 \n",
    "H=600\n",
    "# center in microns \n",
    "x0 = (W/2 )  * Micron_Per_Pixel\n",
    "y0 = (H/2 )  * Micron_Per_Pixel\n",
    "z0 =0 \n",
    "Rferrule = 15000  \n",
    "piezoStart = -11;  piezoEnd = 10  \n",
    "Dfiber = 125  #micron, standard singlefiber\n",
    "Hfiber = 0.021  # 0.250 #micron \n",
    "rdb = RawDataBuilder.RawDataBuilder(W, H, Micron_Per_Pixel, WaveLength, bw, piezoStep = 0.1955)\n",
    "print rdb\n",
    "rdb.singleFiberFlat((x0, y0), Rferrule, Dfiber, Hfiber,  piezoStart, piezoEnd, True, fi0,  z0, None, showAndSaveImages)\n"
   ]
  },
  {
   "cell_type": "code",
   "execution_count": null,
   "metadata": {
    "collapsed": false
   },
   "outputs": [],
   "source": [
    "# piezo distance graphics \n",
    "logPath1 = \"C:\\\\ProgramData\\\\Sumix\\\\MaxInspect\\\\SF3_1821\\\\Logs\"\n",
    "piezoDistance = \"piezoDistance.txt\"\n",
    "piezopath1 = logPath1 +\"\\\\\" + piezoDistance\n",
    "piezo1 = np.loadtxt(piezopath1 )  \n",
    "print piezo1\n",
    "x1 =  range(piezo1.size )\n",
    "plt.plot (x1, piezo1)  \n",
    "plt.show()"
   ]
  },
  {
   "cell_type": "code",
   "execution_count": null,
   "metadata": {
    "collapsed": false,
    "scrolled": true
   },
   "outputs": [],
   "source": [
    "#Raw surface simulation\n",
    "\n",
    "#clear source \n",
    "if os.path.exists(outputPath) and os.path.isfile(outputPath):\n",
    "    os.remove(outputPath)\n",
    "#Scan parameters \n",
    "# screen size in pixels:\n",
    "W=800 \n",
    "H=600\n",
    "# center in microns \n",
    "x0 = (W/2 )  * Micron_Per_Pixel\n",
    "y0 = (H/2 )  * Micron_Per_Pixel\n",
    "z0 =-7\n",
    "R=500000 \n",
    "piezoStart = -4;  piezoEnd = 4  \n",
    "rdb = RawDataBuilder.RawDataBuilder(W, H, Micron_Per_Pixel, WaveLength, bw,  piezoStep = 0.06625 )\n",
    "print rdb\n",
    "rdb.rawSphere((x0, y0), R, piezoStart, piezoEnd, True, fi0,  z0, piezoRange = piezo1, frameCallback = showAndSaveImages)\n"
   ]
  },
  {
   "cell_type": "code",
   "execution_count": null,
   "metadata": {
    "collapsed": true
   },
   "outputs": [],
   "source": []
  }
 ],
 "metadata": {
  "kernelspec": {
   "display_name": "Python 2",
   "language": "python",
   "name": "python2"
  },
  "language_info": {
   "codemirror_mode": {
    "name": "ipython",
    "version": 2
   },
   "file_extension": ".py",
   "mimetype": "text/x-python",
   "name": "python",
   "nbconvert_exporter": "python",
   "pygments_lexer": "ipython2",
   "version": "2.7.12"
  }
 },
 "nbformat": 4,
 "nbformat_minor": 0
}
